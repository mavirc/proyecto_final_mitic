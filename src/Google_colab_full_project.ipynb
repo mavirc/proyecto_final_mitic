{
  "nbformat": 4,
  "nbformat_minor": 0,
  "metadata": {
    "colab": {
      "provenance": []
    },
    "kernelspec": {
      "name": "python3",
      "display_name": "Python 3"
    },
    "language_info": {
      "name": "python"
    }
  },
  "cells": [
    {
      "cell_type": "markdown",
      "source": [
        "## **Proyecto Final  Despliegue de Proyecto**"
      ],
      "metadata": {
        "id": "FoM2bhJ8hR3X"
      }
    },
    {
      "cell_type": "code",
      "source": [
        "# Imporatmos las librerias\n",
        "import pandas as pd\n",
        "import numpy as np\n",
        "import matplotlib.pyplot as plt\n",
        "import seaborn as sns\n",
        "\n",
        "# Cargamos y examinamos el data set\n",
        "data = pd.read_csv('heart.csv')\n",
        "data.head()"
      ],
      "metadata": {
        "colab": {
          "base_uri": "https://localhost:8080/",
          "height": 206
        },
        "id": "FIKtpUgeU24_",
        "outputId": "02149901-9989-4fa9-8fda-04998aa62dea"
      },
      "execution_count": 124,
      "outputs": [
        {
          "output_type": "execute_result",
          "data": {
            "text/plain": [
              "   age  sex  cp  trestbps  chol  fbs  restecg  thalach  exang  oldpeak  slope  \\\n",
              "0   63    1   3       145   233    1        0      150      0      2.3      0   \n",
              "1   37    1   2       130   250    0        1      187      0      3.5      0   \n",
              "2   41    0   1       130   204    0        0      172      0      1.4      2   \n",
              "3   56    1   1       120   236    0        1      178      0      0.8      2   \n",
              "4   57    0   0       120   354    0        1      163      1      0.6      2   \n",
              "\n",
              "   ca  thal  target  \n",
              "0   0     1       1  \n",
              "1   0     2       1  \n",
              "2   0     2       1  \n",
              "3   0     2       1  \n",
              "4   0     2       1  "
            ],
            "text/html": [
              "\n",
              "  <div id=\"df-4753e3a5-0c58-4957-981d-3aafd88123a2\" class=\"colab-df-container\">\n",
              "    <div>\n",
              "<style scoped>\n",
              "    .dataframe tbody tr th:only-of-type {\n",
              "        vertical-align: middle;\n",
              "    }\n",
              "\n",
              "    .dataframe tbody tr th {\n",
              "        vertical-align: top;\n",
              "    }\n",
              "\n",
              "    .dataframe thead th {\n",
              "        text-align: right;\n",
              "    }\n",
              "</style>\n",
              "<table border=\"1\" class=\"dataframe\">\n",
              "  <thead>\n",
              "    <tr style=\"text-align: right;\">\n",
              "      <th></th>\n",
              "      <th>age</th>\n",
              "      <th>sex</th>\n",
              "      <th>cp</th>\n",
              "      <th>trestbps</th>\n",
              "      <th>chol</th>\n",
              "      <th>fbs</th>\n",
              "      <th>restecg</th>\n",
              "      <th>thalach</th>\n",
              "      <th>exang</th>\n",
              "      <th>oldpeak</th>\n",
              "      <th>slope</th>\n",
              "      <th>ca</th>\n",
              "      <th>thal</th>\n",
              "      <th>target</th>\n",
              "    </tr>\n",
              "  </thead>\n",
              "  <tbody>\n",
              "    <tr>\n",
              "      <th>0</th>\n",
              "      <td>63</td>\n",
              "      <td>1</td>\n",
              "      <td>3</td>\n",
              "      <td>145</td>\n",
              "      <td>233</td>\n",
              "      <td>1</td>\n",
              "      <td>0</td>\n",
              "      <td>150</td>\n",
              "      <td>0</td>\n",
              "      <td>2.3</td>\n",
              "      <td>0</td>\n",
              "      <td>0</td>\n",
              "      <td>1</td>\n",
              "      <td>1</td>\n",
              "    </tr>\n",
              "    <tr>\n",
              "      <th>1</th>\n",
              "      <td>37</td>\n",
              "      <td>1</td>\n",
              "      <td>2</td>\n",
              "      <td>130</td>\n",
              "      <td>250</td>\n",
              "      <td>0</td>\n",
              "      <td>1</td>\n",
              "      <td>187</td>\n",
              "      <td>0</td>\n",
              "      <td>3.5</td>\n",
              "      <td>0</td>\n",
              "      <td>0</td>\n",
              "      <td>2</td>\n",
              "      <td>1</td>\n",
              "    </tr>\n",
              "    <tr>\n",
              "      <th>2</th>\n",
              "      <td>41</td>\n",
              "      <td>0</td>\n",
              "      <td>1</td>\n",
              "      <td>130</td>\n",
              "      <td>204</td>\n",
              "      <td>0</td>\n",
              "      <td>0</td>\n",
              "      <td>172</td>\n",
              "      <td>0</td>\n",
              "      <td>1.4</td>\n",
              "      <td>2</td>\n",
              "      <td>0</td>\n",
              "      <td>2</td>\n",
              "      <td>1</td>\n",
              "    </tr>\n",
              "    <tr>\n",
              "      <th>3</th>\n",
              "      <td>56</td>\n",
              "      <td>1</td>\n",
              "      <td>1</td>\n",
              "      <td>120</td>\n",
              "      <td>236</td>\n",
              "      <td>0</td>\n",
              "      <td>1</td>\n",
              "      <td>178</td>\n",
              "      <td>0</td>\n",
              "      <td>0.8</td>\n",
              "      <td>2</td>\n",
              "      <td>0</td>\n",
              "      <td>2</td>\n",
              "      <td>1</td>\n",
              "    </tr>\n",
              "    <tr>\n",
              "      <th>4</th>\n",
              "      <td>57</td>\n",
              "      <td>0</td>\n",
              "      <td>0</td>\n",
              "      <td>120</td>\n",
              "      <td>354</td>\n",
              "      <td>0</td>\n",
              "      <td>1</td>\n",
              "      <td>163</td>\n",
              "      <td>1</td>\n",
              "      <td>0.6</td>\n",
              "      <td>2</td>\n",
              "      <td>0</td>\n",
              "      <td>2</td>\n",
              "      <td>1</td>\n",
              "    </tr>\n",
              "  </tbody>\n",
              "</table>\n",
              "</div>\n",
              "    <div class=\"colab-df-buttons\">\n",
              "\n",
              "  <div class=\"colab-df-container\">\n",
              "    <button class=\"colab-df-convert\" onclick=\"convertToInteractive('df-4753e3a5-0c58-4957-981d-3aafd88123a2')\"\n",
              "            title=\"Convert this dataframe to an interactive table.\"\n",
              "            style=\"display:none;\">\n",
              "\n",
              "  <svg xmlns=\"http://www.w3.org/2000/svg\" height=\"24px\" viewBox=\"0 -960 960 960\">\n",
              "    <path d=\"M120-120v-720h720v720H120Zm60-500h600v-160H180v160Zm220 220h160v-160H400v160Zm0 220h160v-160H400v160ZM180-400h160v-160H180v160Zm440 0h160v-160H620v160ZM180-180h160v-160H180v160Zm440 0h160v-160H620v160Z\"/>\n",
              "  </svg>\n",
              "    </button>\n",
              "\n",
              "  <style>\n",
              "    .colab-df-container {\n",
              "      display:flex;\n",
              "      gap: 12px;\n",
              "    }\n",
              "\n",
              "    .colab-df-convert {\n",
              "      background-color: #E8F0FE;\n",
              "      border: none;\n",
              "      border-radius: 50%;\n",
              "      cursor: pointer;\n",
              "      display: none;\n",
              "      fill: #1967D2;\n",
              "      height: 32px;\n",
              "      padding: 0 0 0 0;\n",
              "      width: 32px;\n",
              "    }\n",
              "\n",
              "    .colab-df-convert:hover {\n",
              "      background-color: #E2EBFA;\n",
              "      box-shadow: 0px 1px 2px rgba(60, 64, 67, 0.3), 0px 1px 3px 1px rgba(60, 64, 67, 0.15);\n",
              "      fill: #174EA6;\n",
              "    }\n",
              "\n",
              "    .colab-df-buttons div {\n",
              "      margin-bottom: 4px;\n",
              "    }\n",
              "\n",
              "    [theme=dark] .colab-df-convert {\n",
              "      background-color: #3B4455;\n",
              "      fill: #D2E3FC;\n",
              "    }\n",
              "\n",
              "    [theme=dark] .colab-df-convert:hover {\n",
              "      background-color: #434B5C;\n",
              "      box-shadow: 0px 1px 3px 1px rgba(0, 0, 0, 0.15);\n",
              "      filter: drop-shadow(0px 1px 2px rgba(0, 0, 0, 0.3));\n",
              "      fill: #FFFFFF;\n",
              "    }\n",
              "  </style>\n",
              "\n",
              "    <script>\n",
              "      const buttonEl =\n",
              "        document.querySelector('#df-4753e3a5-0c58-4957-981d-3aafd88123a2 button.colab-df-convert');\n",
              "      buttonEl.style.display =\n",
              "        google.colab.kernel.accessAllowed ? 'block' : 'none';\n",
              "\n",
              "      async function convertToInteractive(key) {\n",
              "        const element = document.querySelector('#df-4753e3a5-0c58-4957-981d-3aafd88123a2');\n",
              "        const dataTable =\n",
              "          await google.colab.kernel.invokeFunction('convertToInteractive',\n",
              "                                                    [key], {});\n",
              "        if (!dataTable) return;\n",
              "\n",
              "        const docLinkHtml = 'Like what you see? Visit the ' +\n",
              "          '<a target=\"_blank\" href=https://colab.research.google.com/notebooks/data_table.ipynb>data table notebook</a>'\n",
              "          + ' to learn more about interactive tables.';\n",
              "        element.innerHTML = '';\n",
              "        dataTable['output_type'] = 'display_data';\n",
              "        await google.colab.output.renderOutput(dataTable, element);\n",
              "        const docLink = document.createElement('div');\n",
              "        docLink.innerHTML = docLinkHtml;\n",
              "        element.appendChild(docLink);\n",
              "      }\n",
              "    </script>\n",
              "  </div>\n",
              "\n",
              "\n",
              "<div id=\"df-8fe11de5-474a-40be-a8ee-f0f8bf0ff7b3\">\n",
              "  <button class=\"colab-df-quickchart\" onclick=\"quickchart('df-8fe11de5-474a-40be-a8ee-f0f8bf0ff7b3')\"\n",
              "            title=\"Suggest charts\"\n",
              "            style=\"display:none;\">\n",
              "\n",
              "<svg xmlns=\"http://www.w3.org/2000/svg\" height=\"24px\"viewBox=\"0 0 24 24\"\n",
              "     width=\"24px\">\n",
              "    <g>\n",
              "        <path d=\"M19 3H5c-1.1 0-2 .9-2 2v14c0 1.1.9 2 2 2h14c1.1 0 2-.9 2-2V5c0-1.1-.9-2-2-2zM9 17H7v-7h2v7zm4 0h-2V7h2v10zm4 0h-2v-4h2v4z\"/>\n",
              "    </g>\n",
              "</svg>\n",
              "  </button>\n",
              "\n",
              "<style>\n",
              "  .colab-df-quickchart {\n",
              "      --bg-color: #E8F0FE;\n",
              "      --fill-color: #1967D2;\n",
              "      --hover-bg-color: #E2EBFA;\n",
              "      --hover-fill-color: #174EA6;\n",
              "      --disabled-fill-color: #AAA;\n",
              "      --disabled-bg-color: #DDD;\n",
              "  }\n",
              "\n",
              "  [theme=dark] .colab-df-quickchart {\n",
              "      --bg-color: #3B4455;\n",
              "      --fill-color: #D2E3FC;\n",
              "      --hover-bg-color: #434B5C;\n",
              "      --hover-fill-color: #FFFFFF;\n",
              "      --disabled-bg-color: #3B4455;\n",
              "      --disabled-fill-color: #666;\n",
              "  }\n",
              "\n",
              "  .colab-df-quickchart {\n",
              "    background-color: var(--bg-color);\n",
              "    border: none;\n",
              "    border-radius: 50%;\n",
              "    cursor: pointer;\n",
              "    display: none;\n",
              "    fill: var(--fill-color);\n",
              "    height: 32px;\n",
              "    padding: 0;\n",
              "    width: 32px;\n",
              "  }\n",
              "\n",
              "  .colab-df-quickchart:hover {\n",
              "    background-color: var(--hover-bg-color);\n",
              "    box-shadow: 0 1px 2px rgba(60, 64, 67, 0.3), 0 1px 3px 1px rgba(60, 64, 67, 0.15);\n",
              "    fill: var(--button-hover-fill-color);\n",
              "  }\n",
              "\n",
              "  .colab-df-quickchart-complete:disabled,\n",
              "  .colab-df-quickchart-complete:disabled:hover {\n",
              "    background-color: var(--disabled-bg-color);\n",
              "    fill: var(--disabled-fill-color);\n",
              "    box-shadow: none;\n",
              "  }\n",
              "\n",
              "  .colab-df-spinner {\n",
              "    border: 2px solid var(--fill-color);\n",
              "    border-color: transparent;\n",
              "    border-bottom-color: var(--fill-color);\n",
              "    animation:\n",
              "      spin 1s steps(1) infinite;\n",
              "  }\n",
              "\n",
              "  @keyframes spin {\n",
              "    0% {\n",
              "      border-color: transparent;\n",
              "      border-bottom-color: var(--fill-color);\n",
              "      border-left-color: var(--fill-color);\n",
              "    }\n",
              "    20% {\n",
              "      border-color: transparent;\n",
              "      border-left-color: var(--fill-color);\n",
              "      border-top-color: var(--fill-color);\n",
              "    }\n",
              "    30% {\n",
              "      border-color: transparent;\n",
              "      border-left-color: var(--fill-color);\n",
              "      border-top-color: var(--fill-color);\n",
              "      border-right-color: var(--fill-color);\n",
              "    }\n",
              "    40% {\n",
              "      border-color: transparent;\n",
              "      border-right-color: var(--fill-color);\n",
              "      border-top-color: var(--fill-color);\n",
              "    }\n",
              "    60% {\n",
              "      border-color: transparent;\n",
              "      border-right-color: var(--fill-color);\n",
              "    }\n",
              "    80% {\n",
              "      border-color: transparent;\n",
              "      border-right-color: var(--fill-color);\n",
              "      border-bottom-color: var(--fill-color);\n",
              "    }\n",
              "    90% {\n",
              "      border-color: transparent;\n",
              "      border-bottom-color: var(--fill-color);\n",
              "    }\n",
              "  }\n",
              "</style>\n",
              "\n",
              "  <script>\n",
              "    async function quickchart(key) {\n",
              "      const quickchartButtonEl =\n",
              "        document.querySelector('#' + key + ' button');\n",
              "      quickchartButtonEl.disabled = true;  // To prevent multiple clicks.\n",
              "      quickchartButtonEl.classList.add('colab-df-spinner');\n",
              "      try {\n",
              "        const charts = await google.colab.kernel.invokeFunction(\n",
              "            'suggestCharts', [key], {});\n",
              "      } catch (error) {\n",
              "        console.error('Error during call to suggestCharts:', error);\n",
              "      }\n",
              "      quickchartButtonEl.classList.remove('colab-df-spinner');\n",
              "      quickchartButtonEl.classList.add('colab-df-quickchart-complete');\n",
              "    }\n",
              "    (() => {\n",
              "      let quickchartButtonEl =\n",
              "        document.querySelector('#df-8fe11de5-474a-40be-a8ee-f0f8bf0ff7b3 button');\n",
              "      quickchartButtonEl.style.display =\n",
              "        google.colab.kernel.accessAllowed ? 'block' : 'none';\n",
              "    })();\n",
              "  </script>\n",
              "</div>\n",
              "\n",
              "    </div>\n",
              "  </div>\n"
            ],
            "application/vnd.google.colaboratory.intrinsic+json": {
              "type": "dataframe",
              "variable_name": "data",
              "summary": "{\n  \"name\": \"data\",\n  \"rows\": 303,\n  \"fields\": [\n    {\n      \"column\": \"age\",\n      \"properties\": {\n        \"dtype\": \"number\",\n        \"std\": 9,\n        \"min\": 29,\n        \"max\": 77,\n        \"num_unique_values\": 41,\n        \"samples\": [\n          46,\n          66,\n          48\n        ],\n        \"semantic_type\": \"\",\n        \"description\": \"\"\n      }\n    },\n    {\n      \"column\": \"sex\",\n      \"properties\": {\n        \"dtype\": \"number\",\n        \"std\": 0,\n        \"min\": 0,\n        \"max\": 1,\n        \"num_unique_values\": 2,\n        \"samples\": [\n          0,\n          1\n        ],\n        \"semantic_type\": \"\",\n        \"description\": \"\"\n      }\n    },\n    {\n      \"column\": \"cp\",\n      \"properties\": {\n        \"dtype\": \"number\",\n        \"std\": 1,\n        \"min\": 0,\n        \"max\": 3,\n        \"num_unique_values\": 4,\n        \"samples\": [\n          2,\n          0\n        ],\n        \"semantic_type\": \"\",\n        \"description\": \"\"\n      }\n    },\n    {\n      \"column\": \"trestbps\",\n      \"properties\": {\n        \"dtype\": \"number\",\n        \"std\": 17,\n        \"min\": 94,\n        \"max\": 200,\n        \"num_unique_values\": 49,\n        \"samples\": [\n          104,\n          123\n        ],\n        \"semantic_type\": \"\",\n        \"description\": \"\"\n      }\n    },\n    {\n      \"column\": \"chol\",\n      \"properties\": {\n        \"dtype\": \"number\",\n        \"std\": 51,\n        \"min\": 126,\n        \"max\": 564,\n        \"num_unique_values\": 152,\n        \"samples\": [\n          277,\n          169\n        ],\n        \"semantic_type\": \"\",\n        \"description\": \"\"\n      }\n    },\n    {\n      \"column\": \"fbs\",\n      \"properties\": {\n        \"dtype\": \"number\",\n        \"std\": 0,\n        \"min\": 0,\n        \"max\": 1,\n        \"num_unique_values\": 2,\n        \"samples\": [\n          0,\n          1\n        ],\n        \"semantic_type\": \"\",\n        \"description\": \"\"\n      }\n    },\n    {\n      \"column\": \"restecg\",\n      \"properties\": {\n        \"dtype\": \"number\",\n        \"std\": 0,\n        \"min\": 0,\n        \"max\": 2,\n        \"num_unique_values\": 3,\n        \"samples\": [\n          0,\n          1\n        ],\n        \"semantic_type\": \"\",\n        \"description\": \"\"\n      }\n    },\n    {\n      \"column\": \"thalach\",\n      \"properties\": {\n        \"dtype\": \"number\",\n        \"std\": 22,\n        \"min\": 71,\n        \"max\": 202,\n        \"num_unique_values\": 91,\n        \"samples\": [\n          159,\n          152\n        ],\n        \"semantic_type\": \"\",\n        \"description\": \"\"\n      }\n    },\n    {\n      \"column\": \"exang\",\n      \"properties\": {\n        \"dtype\": \"number\",\n        \"std\": 0,\n        \"min\": 0,\n        \"max\": 1,\n        \"num_unique_values\": 2,\n        \"samples\": [\n          1,\n          0\n        ],\n        \"semantic_type\": \"\",\n        \"description\": \"\"\n      }\n    },\n    {\n      \"column\": \"oldpeak\",\n      \"properties\": {\n        \"dtype\": \"number\",\n        \"std\": 1.1610750220686343,\n        \"min\": 0.0,\n        \"max\": 6.2,\n        \"num_unique_values\": 40,\n        \"samples\": [\n          1.9,\n          3.0\n        ],\n        \"semantic_type\": \"\",\n        \"description\": \"\"\n      }\n    },\n    {\n      \"column\": \"slope\",\n      \"properties\": {\n        \"dtype\": \"number\",\n        \"std\": 0,\n        \"min\": 0,\n        \"max\": 2,\n        \"num_unique_values\": 3,\n        \"samples\": [\n          0,\n          2\n        ],\n        \"semantic_type\": \"\",\n        \"description\": \"\"\n      }\n    },\n    {\n      \"column\": \"ca\",\n      \"properties\": {\n        \"dtype\": \"number\",\n        \"std\": 1,\n        \"min\": 0,\n        \"max\": 4,\n        \"num_unique_values\": 5,\n        \"samples\": [\n          2,\n          4\n        ],\n        \"semantic_type\": \"\",\n        \"description\": \"\"\n      }\n    },\n    {\n      \"column\": \"thal\",\n      \"properties\": {\n        \"dtype\": \"number\",\n        \"std\": 0,\n        \"min\": 0,\n        \"max\": 3,\n        \"num_unique_values\": 4,\n        \"samples\": [\n          2,\n          0\n        ],\n        \"semantic_type\": \"\",\n        \"description\": \"\"\n      }\n    },\n    {\n      \"column\": \"target\",\n      \"properties\": {\n        \"dtype\": \"number\",\n        \"std\": 0,\n        \"min\": 0,\n        \"max\": 1,\n        \"num_unique_values\": 2,\n        \"samples\": [\n          0,\n          1\n        ],\n        \"semantic_type\": \"\",\n        \"description\": \"\"\n      }\n    }\n  ]\n}"
            }
          },
          "metadata": {},
          "execution_count": 124
        }
      ]
    },
    {
      "cell_type": "code",
      "source": [
        "# Instamos agboots\n",
        "!pip install xgboost pandas scikit-learn"
      ],
      "metadata": {
        "colab": {
          "base_uri": "https://localhost:8080/"
        },
        "id": "yIlsDu9F_a8V",
        "outputId": "978f70ea-62cd-438c-ae8c-47ae9d025b49"
      },
      "execution_count": 125,
      "outputs": [
        {
          "output_type": "stream",
          "name": "stdout",
          "text": [
            "Requirement already satisfied: xgboost in /usr/local/lib/python3.10/dist-packages (2.1.3)\n",
            "Requirement already satisfied: pandas in /usr/local/lib/python3.10/dist-packages (2.2.2)\n",
            "Requirement already satisfied: scikit-learn in /usr/local/lib/python3.10/dist-packages (1.6.0)\n",
            "Requirement already satisfied: numpy in /usr/local/lib/python3.10/dist-packages (from xgboost) (1.26.4)\n",
            "Requirement already satisfied: nvidia-nccl-cu12 in /usr/local/lib/python3.10/dist-packages (from xgboost) (2.23.4)\n",
            "Requirement already satisfied: scipy in /usr/local/lib/python3.10/dist-packages (from xgboost) (1.13.1)\n",
            "Requirement already satisfied: python-dateutil>=2.8.2 in /usr/local/lib/python3.10/dist-packages (from pandas) (2.8.2)\n",
            "Requirement already satisfied: pytz>=2020.1 in /usr/local/lib/python3.10/dist-packages (from pandas) (2024.2)\n",
            "Requirement already satisfied: tzdata>=2022.7 in /usr/local/lib/python3.10/dist-packages (from pandas) (2024.2)\n",
            "Requirement already satisfied: joblib>=1.2.0 in /usr/local/lib/python3.10/dist-packages (from scikit-learn) (1.4.2)\n",
            "Requirement already satisfied: threadpoolctl>=3.1.0 in /usr/local/lib/python3.10/dist-packages (from scikit-learn) (3.5.0)\n",
            "Requirement already satisfied: six>=1.5 in /usr/local/lib/python3.10/dist-packages (from python-dateutil>=2.8.2->pandas) (1.17.0)\n"
          ]
        }
      ]
    },
    {
      "cell_type": "code",
      "source": [
        "# Instalamos poetry\n",
        "!pip install poetry"
      ],
      "metadata": {
        "colab": {
          "base_uri": "https://localhost:8080/"
        },
        "id": "PyLv4g0qiyK6",
        "outputId": "1412b52c-c0e6-4f59-a9ac-edc2522d5c40"
      },
      "execution_count": 126,
      "outputs": [
        {
          "output_type": "stream",
          "name": "stdout",
          "text": [
            "Requirement already satisfied: poetry in /usr/local/lib/python3.10/dist-packages (2.0.0)\n",
            "Requirement already satisfied: build<2.0.0,>=1.2.1 in /usr/local/lib/python3.10/dist-packages (from poetry) (1.2.2.post1)\n",
            "Requirement already satisfied: cachecontrol<0.15.0,>=0.14.0 in /usr/local/lib/python3.10/dist-packages (from cachecontrol[filecache]<0.15.0,>=0.14.0->poetry) (0.14.1)\n",
            "Requirement already satisfied: cleo<3.0.0,>=2.1.0 in /usr/local/lib/python3.10/dist-packages (from poetry) (2.1.0)\n",
            "Requirement already satisfied: dulwich<0.23.0,>=0.22.6 in /usr/local/lib/python3.10/dist-packages (from poetry) (0.22.7)\n",
            "Requirement already satisfied: fastjsonschema<3.0.0,>=2.18.0 in /usr/local/lib/python3.10/dist-packages (from poetry) (2.21.1)\n",
            "Requirement already satisfied: installer<0.8.0,>=0.7.0 in /usr/local/lib/python3.10/dist-packages (from poetry) (0.7.0)\n",
            "Requirement already satisfied: keyring<26.0.0,>=25.1.0 in /usr/local/lib/python3.10/dist-packages (from poetry) (25.6.0)\n",
            "Requirement already satisfied: packaging>=24.0 in /usr/local/lib/python3.10/dist-packages (from poetry) (24.2)\n",
            "Requirement already satisfied: pkginfo<2.0,>=1.12 in /usr/local/lib/python3.10/dist-packages (from poetry) (1.12.0)\n",
            "Requirement already satisfied: platformdirs<5,>=3.0.0 in /usr/local/lib/python3.10/dist-packages (from poetry) (4.3.6)\n",
            "Requirement already satisfied: poetry-core==2.0.0 in /usr/local/lib/python3.10/dist-packages (from poetry) (2.0.0)\n",
            "Requirement already satisfied: pyproject-hooks<2.0.0,>=1.0.0 in /usr/local/lib/python3.10/dist-packages (from poetry) (1.2.0)\n",
            "Requirement already satisfied: requests<3.0,>=2.26 in /usr/local/lib/python3.10/dist-packages (from poetry) (2.32.3)\n",
            "Requirement already satisfied: requests-toolbelt<2.0.0,>=1.0.0 in /usr/local/lib/python3.10/dist-packages (from poetry) (1.0.0)\n",
            "Requirement already satisfied: shellingham<2.0,>=1.5 in /usr/local/lib/python3.10/dist-packages (from poetry) (1.5.4)\n",
            "Requirement already satisfied: tomli<3.0.0,>=2.0.1 in /usr/local/lib/python3.10/dist-packages (from poetry) (2.2.1)\n",
            "Requirement already satisfied: tomlkit<1.0.0,>=0.11.4 in /usr/local/lib/python3.10/dist-packages (from poetry) (0.13.2)\n",
            "Requirement already satisfied: trove-classifiers>=2022.5.19 in /usr/local/lib/python3.10/dist-packages (from poetry) (2025.1.7.14)\n",
            "Requirement already satisfied: virtualenv<21.0.0,>=20.26.6 in /usr/local/lib/python3.10/dist-packages (from poetry) (20.28.1)\n",
            "Requirement already satisfied: msgpack<2.0.0,>=0.5.2 in /usr/local/lib/python3.10/dist-packages (from cachecontrol<0.15.0,>=0.14.0->cachecontrol[filecache]<0.15.0,>=0.14.0->poetry) (1.1.0)\n",
            "Requirement already satisfied: filelock>=3.8.0 in /usr/local/lib/python3.10/dist-packages (from cachecontrol[filecache]<0.15.0,>=0.14.0->poetry) (3.16.1)\n",
            "Requirement already satisfied: crashtest<0.5.0,>=0.4.1 in /usr/local/lib/python3.10/dist-packages (from cleo<3.0.0,>=2.1.0->poetry) (0.4.1)\n",
            "Requirement already satisfied: rapidfuzz<4.0.0,>=3.0.0 in /usr/local/lib/python3.10/dist-packages (from cleo<3.0.0,>=2.1.0->poetry) (3.11.0)\n",
            "Requirement already satisfied: urllib3>=1.25 in /usr/local/lib/python3.10/dist-packages (from dulwich<0.23.0,>=0.22.6->poetry) (2.3.0)\n",
            "Requirement already satisfied: SecretStorage>=3.2 in /usr/lib/python3/dist-packages (from keyring<26.0.0,>=25.1.0->poetry) (3.3.1)\n",
            "Requirement already satisfied: jeepney>=0.4.2 in /usr/lib/python3/dist-packages (from keyring<26.0.0,>=25.1.0->poetry) (0.7.1)\n",
            "Requirement already satisfied: importlib_metadata>=4.11.4 in /usr/local/lib/python3.10/dist-packages (from keyring<26.0.0,>=25.1.0->poetry) (8.5.0)\n",
            "Requirement already satisfied: jaraco.classes in /usr/local/lib/python3.10/dist-packages (from keyring<26.0.0,>=25.1.0->poetry) (3.4.0)\n",
            "Requirement already satisfied: jaraco.functools in /usr/local/lib/python3.10/dist-packages (from keyring<26.0.0,>=25.1.0->poetry) (4.1.0)\n",
            "Requirement already satisfied: jaraco.context in /usr/local/lib/python3.10/dist-packages (from keyring<26.0.0,>=25.1.0->poetry) (6.0.1)\n",
            "Requirement already satisfied: charset-normalizer<4,>=2 in /usr/local/lib/python3.10/dist-packages (from requests<3.0,>=2.26->poetry) (3.4.1)\n",
            "Requirement already satisfied: idna<4,>=2.5 in /usr/local/lib/python3.10/dist-packages (from requests<3.0,>=2.26->poetry) (3.10)\n",
            "Requirement already satisfied: certifi>=2017.4.17 in /usr/local/lib/python3.10/dist-packages (from requests<3.0,>=2.26->poetry) (2024.12.14)\n",
            "Requirement already satisfied: distlib<1,>=0.3.7 in /usr/local/lib/python3.10/dist-packages (from virtualenv<21.0.0,>=20.26.6->poetry) (0.3.9)\n",
            "Requirement already satisfied: zipp>=3.20 in /usr/local/lib/python3.10/dist-packages (from importlib_metadata>=4.11.4->keyring<26.0.0,>=25.1.0->poetry) (3.21.0)\n",
            "Requirement already satisfied: more-itertools in /usr/local/lib/python3.10/dist-packages (from jaraco.classes->keyring<26.0.0,>=25.1.0->poetry) (10.5.0)\n",
            "Requirement already satisfied: backports.tarfile in /usr/local/lib/python3.10/dist-packages (from jaraco.context->keyring<26.0.0,>=25.1.0->poetry) (1.2.0)\n"
          ]
        }
      ]
    },
    {
      "cell_type": "code",
      "source": [
        "# Creamos un archivo pyproject.toml en la raíz del proyecto.\n",
        "!poetry init -n"
      ],
      "metadata": {
        "colab": {
          "base_uri": "https://localhost:8080/"
        },
        "id": "35kw6J_XjGHH",
        "outputId": "de7a202a-0d82-4dcf-f164-5865300bc3f4"
      },
      "execution_count": 127,
      "outputs": [
        {
          "output_type": "stream",
          "name": "stdout",
          "text": [
            "\u001b[31;1mA pyproject.toml file with a project and/or a poetry section already exists.\u001b[39;22m\n"
          ]
        }
      ]
    },
    {
      "cell_type": "markdown",
      "source": [
        "Creamos la estructuras de las carpetas y archivos en Colab.\n",
        "Debido a las limitaciones de mi computadora personal, realizo la ejecucion del proyecto desde Google Colb, utilizando mi computadora laboral."
      ],
      "metadata": {
        "id": "skBp0SGgjq5-"
      }
    },
    {
      "cell_type": "code",
      "source": [
        "#Crea las carpetas y archivos necesarios en Colab:\n",
        "\n",
        "import os\n",
        "\n",
        "# Crear la estructura de carpetas\n",
        "os.makedirs('Deployment_XGBoost_Heart_Disease_UCI/data', exist_ok=True)\n",
        "os.makedirs('Deployment_XGBoost_Heart_Disease_UCI/models', exist_ok=True)\n",
        "os.makedirs('Deployment_XGBoost_Heart_Disease_UCI/src/data', exist_ok=True)\n",
        "os.makedirs('Deployment_XGBoost_Heart_Disease_UCI/src/model', exist_ok=True)\n",
        "os.makedirs('Deployment_XGBoost_Heart_Disease_UCI/tests', exist_ok=True)\n",
        "\n",
        "# Verificar la estructura\n",
        "!tree Deployment_XGBoost_Heart_Disease_UCI"
      ],
      "metadata": {
        "colab": {
          "base_uri": "https://localhost:8080/"
        },
        "id": "cD9AMbOH_i-I",
        "outputId": "e672f35d-e828-4e63-a9f9-9fae9edfe85c"
      },
      "execution_count": 128,
      "outputs": [
        {
          "output_type": "stream",
          "name": "stdout",
          "text": [
            "/bin/bash: line 1: tree: command not found\n"
          ]
        }
      ]
    },
    {
      "cell_type": "code",
      "source": [
        "!cat src/data/data_loader.py"
      ],
      "metadata": {
        "id": "QdNKiBLuDScX"
      },
      "execution_count": 129,
      "outputs": []
    },
    {
      "cell_type": "code",
      "source": [
        "# Este archivo carga los datos\n",
        "%%writefile Deployment_XGBoost_Heart_Disease_UCI/src/data/data_loader.py\n",
        "import pandas as pd\n",
        "\n",
        "def load_data(file_path):\n",
        "    \"\"\"\n",
        "    Carga un archivo CSV como un DataFrame de pandas.\n",
        "\n",
        "    Parámetros:\n",
        "        file_path (str): Ruta al archivo CSV.\n",
        "\n",
        "    Retorna:\n",
        "        pd.DataFrame: DataFrame con los datos cargados.\n",
        "    \"\"\"\n",
        "    return pd.read_csv(file_path)"
      ],
      "metadata": {
        "colab": {
          "base_uri": "https://localhost:8080/"
        },
        "id": "pl4QnR5obke9",
        "outputId": "eb0ab228-5fc9-4252-d336-a17d7e28157d"
      },
      "execution_count": 130,
      "outputs": [
        {
          "output_type": "stream",
          "name": "stdout",
          "text": [
            "Overwriting Deployment_XGBoost_Heart_Disease_UCI/src/data/data_loader.py\n"
          ]
        }
      ]
    },
    {
      "cell_type": "markdown",
      "source": [],
      "metadata": {
        "id": "JJB2vhPmjnUT"
      }
    },
    {
      "cell_type": "markdown",
      "source": [],
      "metadata": {
        "id": "bZTKEgu4jo2e"
      }
    },
    {
      "cell_type": "code",
      "source": [
        "%%writefile Deployment_XGBoost_Heart_Disease_UCI/src/data/data_splitter.py\n",
        "from sklearn.model_selection import train_test_split\n",
        "\n",
        "def split_data(data, target_column='target', test_size=0.2, random_state=42):\n",
        "    \"\"\"\n",
        "    Divide los datos en conjuntos de entrenamiento y prueba.\n",
        "\n",
        "    Parámetros:\n",
        "        data (pd.DataFrame): DataFrame con los datos.\n",
        "        target_column (str): Nombre de la columna objetivo.\n",
        "        test_size (float): Proporción del conjunto de prueba.\n",
        "        random_state (int): Semilla para reproducibilidad.\n",
        "\n",
        "    Retorna:\n",
        "        tuple: (X_train, X_test, y_train, y_test)\n",
        "    \"\"\"\n",
        "    X = data.drop(target_column, axis=1)\n",
        "    y = data[target_column]\n",
        "    return train_test_split(X, y, test_size=test_size, random_state=random_state)"
      ],
      "metadata": {
        "colab": {
          "base_uri": "https://localhost:8080/"
        },
        "id": "H_brc-oZboMv",
        "outputId": "70fd4773-5527-4fe9-8098-272b821449e2"
      },
      "execution_count": 131,
      "outputs": [
        {
          "output_type": "stream",
          "name": "stdout",
          "text": [
            "Overwriting Deployment_XGBoost_Heart_Disease_UCI/src/data/data_splitter.py\n"
          ]
        }
      ]
    },
    {
      "cell_type": "code",
      "source": [
        "%%writefile Deployment_XGBoost_Heart_Disease_UCI/src/data/data_processor.py\n",
        "from sklearn.preprocessing import StandardScaler\n",
        "\n",
        "def preprocess_data(X_train, X_test):\n",
        "    \"\"\"\n",
        "    Preprocesa los datos escalándolos.\n",
        "\n",
        "    Parámetros:\n",
        "        X_train (pd.DataFrame): Datos de entrenamiento.\n",
        "        X_test (pd.DataFrame): Datos de prueba.\n",
        "\n",
        "    Retorna:\n",
        "        tuple: (X_train, X_test)\n",
        "    \"\"\"\n",
        "    scaler = StandardScaler()\n",
        "    X_train = scaler.fit_transform(X_train)\n",
        "    X_test = scaler.transform(X_test)\n",
        "    return X_train, X_test"
      ],
      "metadata": {
        "colab": {
          "base_uri": "https://localhost:8080/"
        },
        "id": "gKG4dAkbbxz2",
        "outputId": "42104d0e-5304-4534-c575-aced5dee4d17"
      },
      "execution_count": 132,
      "outputs": [
        {
          "output_type": "stream",
          "name": "stdout",
          "text": [
            "Overwriting Deployment_XGBoost_Heart_Disease_UCI/src/data/data_processor.py\n"
          ]
        }
      ]
    },
    {
      "cell_type": "code",
      "source": [
        "%%writefile Deployment_XGBoost_Heart_Disease_UCI/src/model/trainer.py\n",
        "from xgboost import XGBClassifier\n",
        "\n",
        "def train_model(X_train, y_train):\n",
        "    \"\"\"\n",
        "    Entrena un modelo XGBoost.\n",
        "\n",
        "    Parámetros:\n",
        "        X_train (pd.DataFrame): Datos de entrenamiento.\n",
        "        y_train (pd.Series): Etiquetas de entrenamiento.\n",
        "\n",
        "    Retorna:\n",
        "        XGBClassifier: Modelo entrenado.\n",
        "    \"\"\"\n",
        "    model = XGBClassifier()\n",
        "    model.fit(X_train, y_train)\n",
        "    return model"
      ],
      "metadata": {
        "colab": {
          "base_uri": "https://localhost:8080/"
        },
        "id": "MsWgwc3Bb_Is",
        "outputId": "f4331ec8-bbec-42a6-ec89-d4b49b4b3f64"
      },
      "execution_count": 133,
      "outputs": [
        {
          "output_type": "stream",
          "name": "stdout",
          "text": [
            "Overwriting Deployment_XGBoost_Heart_Disease_UCI/src/model/trainer.py\n"
          ]
        }
      ]
    },
    {
      "cell_type": "code",
      "source": [
        "# Este archivo evalúa el modelo entrenado.\n",
        "%%writefile Deployment_XGBoost_Heart_Disease_UCI/src/model/evaluator.py\n",
        "from sklearn.metrics import accuracy_score\n",
        "\n",
        "def evaluate_model(model, X_test, y_test):\n",
        "    \"\"\"\n",
        "    Evalúa el modelo.\n",
        "\n",
        "    Parámetros:\n",
        "        model (XGBClassifier): Modelo entrenado.\n",
        "        X_test (pd.DataFrame): Datos de prueba.\n",
        "        y_test (pd.Series): Etiquetas de prueba.\n",
        "\n",
        "    Retorna:\n",
        "        None\n",
        "    \"\"\"\n",
        "    y_pred = model.predict(X_test)\n",
        "    accuracy = accuracy_score(y_test, y_pred)\n",
        "    print(f'Accuracy: {accuracy:.2f}')"
      ],
      "metadata": {
        "colab": {
          "base_uri": "https://localhost:8080/"
        },
        "id": "RhWCh_pzcEax",
        "outputId": "0f46bdf0-610f-44a5-9533-b64f7e42edfc"
      },
      "execution_count": 134,
      "outputs": [
        {
          "output_type": "stream",
          "name": "stdout",
          "text": [
            "Overwriting Deployment_XGBoost_Heart_Disease_UCI/src/model/evaluator.py\n"
          ]
        }
      ]
    },
    {
      "cell_type": "code",
      "source": [
        "%%writefile Deployment_XGBoost_Heart_Disease_UCI/src/model/saver.py\n",
        "import pickle\n",
        "\n",
        "def save_model(model, file_path):\n",
        "    \"\"\"\n",
        "    Guarda el modelo en un archivo.\n",
        "\n",
        "    Parámetros:\n",
        "        model (XGBClassifier): Modelo entrenado.\n",
        "        file_path (str): Ruta al archivo.\n",
        "\n",
        "    Retorna:\n",
        "        None\n",
        "    \"\"\"\n",
        "    with open(file_path, 'wb') as f:\n",
        "        pickle.dump(model, f)\n"
      ],
      "metadata": {
        "colab": {
          "base_uri": "https://localhost:8080/"
        },
        "id": "tFM2wkuucJv7",
        "outputId": "06136e3f-1252-4374-edef-3e876fa3867c"
      },
      "execution_count": 135,
      "outputs": [
        {
          "output_type": "stream",
          "name": "stdout",
          "text": [
            "Overwriting Deployment_XGBoost_Heart_Disease_UCI/src/model/saver.py\n"
          ]
        }
      ]
    },
    {
      "cell_type": "code",
      "source": [
        "%%writefile Deployment_XGBoost_Heart_Disease_UCI/main.py\n",
        "import sys\n",
        "import os\n",
        "\n",
        "# Agregar la ruta de src al sys.path\n",
        "sys.path.append(os.path.abspath('src'))\n",
        "\n",
        "# Importar módulos\n",
        "from src.data.data_loader import load_data\n",
        "from src.data.data_splitter import split_data\n",
        "from src.data.data_processor import preprocess_data\n",
        "from src.model.trainer import train_model\n",
        "from src.model.evaluator import evaluate_model\n",
        "from src.model.saver import save_model\n",
        "\n",
        "def main():\n",
        "    # Ruta al archivo CSV\n",
        "    file_path = 'heart.csv'\n",
        "\n",
        "    # Cargar datos\n",
        "    data = load_data(file_path)\n",
        "\n",
        "    # Dividir datos\n",
        "    X_train, X_test, y_train, y_test = split_data(data)\n",
        "\n",
        "    # Preprocesar datos\n",
        "    X_train, X_test = preprocess_data(X_train, X_test)\n",
        "\n",
        "    # Entrenar modelo\n",
        "    model = train_model(X_train, y_train)\n",
        "\n",
        "    # Evaluar modelo\n",
        "    evaluate_model(model, X_test, y_test)\n",
        "\n",
        "    # Guardar modelo\n",
        "    save_model(model, 'models/xgboost_model.pkl')\n",
        "\n",
        "if __name__ == \"__main__\":\n",
        "    main()"
      ],
      "metadata": {
        "colab": {
          "base_uri": "https://localhost:8080/"
        },
        "id": "2HIxjr4tcNvJ",
        "outputId": "011a4dcb-be64-44b2-ba3c-4a4183749f62"
      },
      "execution_count": 136,
      "outputs": [
        {
          "output_type": "stream",
          "name": "stdout",
          "text": [
            "Overwriting Deployment_XGBoost_Heart_Disease_UCI/main.py\n"
          ]
        }
      ]
    },
    {
      "cell_type": "markdown",
      "source": [
        "**Realizar las pruebas unitarias**"
      ],
      "metadata": {
        "id": "q2UOnjAobm5J"
      }
    },
    {
      "cell_type": "code",
      "source": [
        "# Installar\n",
        "!pip install pytest"
      ],
      "metadata": {
        "colab": {
          "base_uri": "https://localhost:8080/"
        },
        "id": "s4ZI-cW_cXGG",
        "outputId": "f6a59f6c-8779-4418-f20e-8f2206c33cc3"
      },
      "execution_count": 137,
      "outputs": [
        {
          "output_type": "stream",
          "name": "stdout",
          "text": [
            "Requirement already satisfied: pytest in /usr/local/lib/python3.10/dist-packages (8.3.4)\n",
            "Requirement already satisfied: exceptiongroup>=1.0.0rc8 in /usr/local/lib/python3.10/dist-packages (from pytest) (1.2.2)\n",
            "Requirement already satisfied: iniconfig in /usr/local/lib/python3.10/dist-packages (from pytest) (2.0.0)\n",
            "Requirement already satisfied: packaging in /usr/local/lib/python3.10/dist-packages (from pytest) (24.2)\n",
            "Requirement already satisfied: pluggy<2,>=1.5 in /usr/local/lib/python3.10/dist-packages (from pytest) (1.5.0)\n",
            "Requirement already satisfied: tomli>=1 in /usr/local/lib/python3.10/dist-packages (from pytest) (2.2.1)\n"
          ]
        }
      ]
    },
    {
      "cell_type": "code",
      "source": [
        "%%writefile Deployment_XGBoost_Heart_Disease_UCI/tests/conftest.py\n",
        "import sys\n",
        "import os\n",
        "\n",
        "# Agregar la ruta de src al sys.path\n",
        "sys.path.append(os.path.abspath('src'))\n"
      ],
      "metadata": {
        "colab": {
          "base_uri": "https://localhost:8080/"
        },
        "id": "1VWG9kJHuunc",
        "outputId": "12917bae-61d9-4322-bbbd-718a7b2fce11"
      },
      "execution_count": 146,
      "outputs": [
        {
          "output_type": "stream",
          "name": "stdout",
          "text": [
            "Writing Deployment_XGBoost_Heart_Disease_UCI/tests/conftest.py\n"
          ]
        }
      ]
    },
    {
      "cell_type": "code",
      "source": [
        "%%writefile Deployment_XGBoost_Heart_Disease_UCI/tests/test_data_loader.py\n",
        "import pytest\n",
        "from src.data.data_loader import load_data\n",
        "\n",
        "def test_load_data():\n",
        "    # Ruta a un archivo de prueba\n",
        "    file_path = 'heart.csv'\n",
        "    data = load_data(file_path)\n",
        "\n",
        "    # Verificar que los datos se cargan correctamente\n",
        "    assert not data.empty, \"El DataFrame está vacío\""
      ],
      "metadata": {
        "colab": {
          "base_uri": "https://localhost:8080/"
        },
        "id": "ej-qBX2pca8u",
        "outputId": "8421be5c-04a1-4403-d3dc-50ec047b3694"
      },
      "execution_count": 148,
      "outputs": [
        {
          "output_type": "stream",
          "name": "stdout",
          "text": [
            "Overwriting Deployment_XGBoost_Heart_Disease_UCI/tests/test_data_loader.py\n"
          ]
        }
      ]
    },
    {
      "cell_type": "code",
      "source": [
        "%%writefile Deployment_XGBoost_Heart_Disease_UCI/tests/test_data_splitter.py\n",
        "import pytest\n",
        "import pandas as pd\n",
        "from src.data.data_splitter import split_data\n",
        "\n",
        "def test_split_data():\n",
        "    # Crear un DataFrame de prueba\n",
        "    data = pd.DataFrame({\n",
        "        'feature1': [1, 2, 3, 4, 5],\n",
        "        'feature2': [10, 20, 30, 40, 50],\n",
        "        'target': [0, 1, 0, 1, 0]\n",
        "    })\n",
        "\n",
        "    # Dividir los datos\n",
        "    X_train, X_test, y_train, y_test = split_data(data, target_column='target')\n",
        "\n",
        "    # Verificar que los conjuntos no estén vacíos\n",
        "    assert not X_train.empty, \"X_train está vacío\"\n",
        "    assert not X_test.empty, \"X_test está vacío\"\n",
        "    assert not y_train.empty, \"y_train está vacío\"\n",
        "    assert not y_test.empty, \"y_test está vacío\""
      ],
      "metadata": {
        "colab": {
          "base_uri": "https://localhost:8080/"
        },
        "id": "m_v8uei8ckbg",
        "outputId": "24148030-4233-4969-818a-c711b11fd32c"
      },
      "execution_count": 149,
      "outputs": [
        {
          "output_type": "stream",
          "name": "stdout",
          "text": [
            "Overwriting Deployment_XGBoost_Heart_Disease_UCI/tests/test_data_splitter.py\n"
          ]
        }
      ]
    },
    {
      "cell_type": "code",
      "source": [
        "%%writefile Deployment_XGBoost_Heart_Disease_UCI/tests/test_data_processor.py\n",
        "import pytest\n",
        "import numpy as np\n",
        "from src.data.data_processor import preprocess_data\n",
        "\n",
        "def test_preprocess_data():\n",
        "    # Crear datos de prueba\n",
        "    X_train = np.array([[1, 2], [3, 4]])\n",
        "    X_test = np.array([[5, 6]])\n",
        "\n",
        "    # Preprocesar los datos\n",
        "    X_train_processed, X_test_processed = preprocess_data(X_train, X_test)\n",
        "\n",
        "    # Verificar que los datos se escalaron correctamente\n",
        "    assert np.mean(X_train_processed) == pytest.approx(0.0, abs=1e-7), \"X_train no está escalado\"\n",
        "    assert np.std(X_train_processed) == pytest.approx(1.0, abs=1e-7), \"X_train no está escalado\""
      ],
      "metadata": {
        "colab": {
          "base_uri": "https://localhost:8080/"
        },
        "id": "O1xi3dmvcm_E",
        "outputId": "3b3b40d0-85bc-4a2f-8af4-0bd2b1b27835"
      },
      "execution_count": 150,
      "outputs": [
        {
          "output_type": "stream",
          "name": "stdout",
          "text": [
            "Overwriting Deployment_XGBoost_Heart_Disease_UCI/tests/test_data_processor.py\n"
          ]
        }
      ]
    },
    {
      "cell_type": "code",
      "source": [
        "%%writefile Deployment_XGBoost_Heart_Disease_UCI/tests/test_trainer.py\n",
        "import pytest\n",
        "import numpy as np\n",
        "from src.model.trainer import train_model\n",
        "\n",
        "def test_train_model():\n",
        "    # Crear datos de prueba\n",
        "    X_train = np.array([[1, 2], [3, 4]])\n",
        "    y_train = np.array([0, 1])\n",
        "\n",
        "    # Entrenar el modelo\n",
        "    model = train_model(X_train, y_train)\n",
        "\n",
        "    # Verificar que el modelo se entrenó\n",
        "    assert model is not None, \"El modelo no se entrenó\""
      ],
      "metadata": {
        "colab": {
          "base_uri": "https://localhost:8080/"
        },
        "id": "YOm7RYyFcqOZ",
        "outputId": "76141c50-08c7-4afd-c18d-02f7f9e3a748"
      },
      "execution_count": 151,
      "outputs": [
        {
          "output_type": "stream",
          "name": "stdout",
          "text": [
            "Overwriting Deployment_XGBoost_Heart_Disease_UCI/tests/test_trainer.py\n"
          ]
        }
      ]
    },
    {
      "cell_type": "code",
      "source": [
        "%%writefile Deployment_XGBoost_Heart_Disease_UCI/tests/test_evaluator.py\n",
        "import pytest\n",
        "import numpy as np\n",
        "from src.model.evaluator import evaluate_model\n",
        "from xgboost import XGBClassifier\n",
        "\n",
        "def test_evaluate_model():\n",
        "    # Crear datos de prueba\n",
        "    X_test = np.array([[1, 2], [3, 4]])\n",
        "    y_test = np.array([0, 1])\n",
        "\n",
        "    # Crear un modelo de prueba\n",
        "    model = XGBClassifier()\n",
        "    model.fit(X_test, y_test)\n",
        "\n",
        "    # Evaluar el modelo\n",
        "    evaluate_model(model, X_test, y_test)"
      ],
      "metadata": {
        "colab": {
          "base_uri": "https://localhost:8080/"
        },
        "id": "tV6suqOAcxtB",
        "outputId": "f40f8be0-82b5-4104-bb47-6aa716f1e440"
      },
      "execution_count": 152,
      "outputs": [
        {
          "output_type": "stream",
          "name": "stdout",
          "text": [
            "Overwriting Deployment_XGBoost_Heart_Disease_UCI/tests/test_evaluator.py\n"
          ]
        }
      ]
    },
    {
      "cell_type": "code",
      "source": [
        "%%writefile Deployment_XGBoost_Heart_Disease_UCI/tests/test_saver.py\n",
        "import pytest\n",
        "import os\n",
        "from src.model.saver import save_model\n",
        "from xgboost import XGBClassifier\n",
        "\n",
        "def test_save_model(tmpdir):\n",
        "    # Crear un modelo de prueba\n",
        "    model = XGBClassifier()\n",
        "\n",
        "    # Ruta temporal para guardar el modelo\n",
        "    file_path = tmpdir.join(\"model.pkl\")\n",
        "\n",
        "    # Guardar el modelo\n",
        "    save_model(model, file_path)\n",
        "\n",
        "    # Verificar que el archivo existe\n",
        "    assert os.path.exists(file_path), \"El archivo no se guardó\""
      ],
      "metadata": {
        "colab": {
          "base_uri": "https://localhost:8080/"
        },
        "id": "udwotk_9fRIA",
        "outputId": "8105fc6f-2a8f-4ebb-9f4d-0cf6a367fffc"
      },
      "execution_count": 153,
      "outputs": [
        {
          "output_type": "stream",
          "name": "stdout",
          "text": [
            "Overwriting Deployment_XGBoost_Heart_Disease_UCI/tests/test_saver.py\n"
          ]
        }
      ]
    },
    {
      "cell_type": "markdown",
      "source": [
        "Ejecutamos"
      ],
      "metadata": {
        "id": "lIp-e0GkfUDh"
      }
    },
    {
      "cell_type": "code",
      "source": [
        "# Ejecutamos el main.py script\n",
        "\n",
        "!python Deployment_XGBoost_Heart_Disease_UCI/main.py"
      ],
      "metadata": {
        "colab": {
          "base_uri": "https://localhost:8080/"
        },
        "id": "iMK6ITxtfauj",
        "outputId": "bc38ecf0-e214-4376-c93b-3e57d3327c7c"
      },
      "execution_count": 155,
      "outputs": [
        {
          "output_type": "stream",
          "name": "stdout",
          "text": [
            "Accuracy: 0.82\n"
          ]
        }
      ]
    },
    {
      "cell_type": "code",
      "source": [
        "!pytest Deployment_XGBoost_Heart_Disease_UCI/tests/"
      ],
      "metadata": {
        "colab": {
          "base_uri": "https://localhost:8080/"
        },
        "id": "ImlK4Kixvche",
        "outputId": "59012ad7-b460-4f3d-9bd8-e195a3aa1231"
      },
      "execution_count": 156,
      "outputs": [
        {
          "output_type": "stream",
          "name": "stdout",
          "text": [
            "\u001b[1m======================================= test session starts ========================================\u001b[0m\n",
            "platform linux -- Python 3.10.12, pytest-8.3.4, pluggy-1.5.0\n",
            "rootdir: /content\n",
            "configfile: pyproject.toml\n",
            "plugins: typeguard-4.4.1, anyio-3.7.1\n",
            "collected 0 items / 6 errors                                                                       \u001b[0m\n",
            "\n",
            "============================================== ERRORS ==============================================\n",
            "\u001b[31m\u001b[1m_________ ERROR collecting Deployment_XGBoost_Heart_Disease_UCI/tests/test_data_loader.py __________\u001b[0m\n",
            "\u001b[31mImportError while importing test module '/content/Deployment_XGBoost_Heart_Disease_UCI/tests/test_data_loader.py'.\n",
            "Hint: make sure your test modules/packages have valid Python names.\n",
            "Traceback:\n",
            "/usr/lib/python3.10/importlib/__init__.py:126: in import_module\n",
            "    return _bootstrap._gcd_import(name[level:], package, level)\n",
            "Deployment_XGBoost_Heart_Disease_UCI/tests/test_data_loader.py:2: in <module>\n",
            "    from src.data.data_loader import load_data\n",
            "E   ModuleNotFoundError: No module named 'src'\u001b[0m\n",
            "\u001b[31m\u001b[1m________ ERROR collecting Deployment_XGBoost_Heart_Disease_UCI/tests/test_data_processor.py ________\u001b[0m\n",
            "\u001b[31mImportError while importing test module '/content/Deployment_XGBoost_Heart_Disease_UCI/tests/test_data_processor.py'.\n",
            "Hint: make sure your test modules/packages have valid Python names.\n",
            "Traceback:\n",
            "/usr/lib/python3.10/importlib/__init__.py:126: in import_module\n",
            "    return _bootstrap._gcd_import(name[level:], package, level)\n",
            "Deployment_XGBoost_Heart_Disease_UCI/tests/test_data_processor.py:3: in <module>\n",
            "    from src.data.data_processor import preprocess_data\n",
            "E   ModuleNotFoundError: No module named 'src'\u001b[0m\n",
            "\u001b[31m\u001b[1m________ ERROR collecting Deployment_XGBoost_Heart_Disease_UCI/tests/test_data_splitter.py _________\u001b[0m\n",
            "\u001b[31mImportError while importing test module '/content/Deployment_XGBoost_Heart_Disease_UCI/tests/test_data_splitter.py'.\n",
            "Hint: make sure your test modules/packages have valid Python names.\n",
            "Traceback:\n",
            "/usr/lib/python3.10/importlib/__init__.py:126: in import_module\n",
            "    return _bootstrap._gcd_import(name[level:], package, level)\n",
            "Deployment_XGBoost_Heart_Disease_UCI/tests/test_data_splitter.py:3: in <module>\n",
            "    from src.data.data_splitter import split_data\n",
            "E   ModuleNotFoundError: No module named 'src'\u001b[0m\n",
            "\u001b[31m\u001b[1m__________ ERROR collecting Deployment_XGBoost_Heart_Disease_UCI/tests/test_evaluator.py ___________\u001b[0m\n",
            "\u001b[31mImportError while importing test module '/content/Deployment_XGBoost_Heart_Disease_UCI/tests/test_evaluator.py'.\n",
            "Hint: make sure your test modules/packages have valid Python names.\n",
            "Traceback:\n",
            "/usr/lib/python3.10/importlib/__init__.py:126: in import_module\n",
            "    return _bootstrap._gcd_import(name[level:], package, level)\n",
            "Deployment_XGBoost_Heart_Disease_UCI/tests/test_evaluator.py:3: in <module>\n",
            "    from src.model.evaluator import evaluate_model\n",
            "E   ModuleNotFoundError: No module named 'src'\u001b[0m\n",
            "\u001b[31m\u001b[1m____________ ERROR collecting Deployment_XGBoost_Heart_Disease_UCI/tests/test_saver.py _____________\u001b[0m\n",
            "\u001b[31mImportError while importing test module '/content/Deployment_XGBoost_Heart_Disease_UCI/tests/test_saver.py'.\n",
            "Hint: make sure your test modules/packages have valid Python names.\n",
            "Traceback:\n",
            "/usr/lib/python3.10/importlib/__init__.py:126: in import_module\n",
            "    return _bootstrap._gcd_import(name[level:], package, level)\n",
            "Deployment_XGBoost_Heart_Disease_UCI/tests/test_saver.py:3: in <module>\n",
            "    from src.model.saver import save_model\n",
            "E   ModuleNotFoundError: No module named 'src'\u001b[0m\n",
            "\u001b[31m\u001b[1m___________ ERROR collecting Deployment_XGBoost_Heart_Disease_UCI/tests/test_trainer.py ____________\u001b[0m\n",
            "\u001b[31mImportError while importing test module '/content/Deployment_XGBoost_Heart_Disease_UCI/tests/test_trainer.py'.\n",
            "Hint: make sure your test modules/packages have valid Python names.\n",
            "Traceback:\n",
            "/usr/lib/python3.10/importlib/__init__.py:126: in import_module\n",
            "    return _bootstrap._gcd_import(name[level:], package, level)\n",
            "Deployment_XGBoost_Heart_Disease_UCI/tests/test_trainer.py:3: in <module>\n",
            "    from src.model.trainer import train_model\n",
            "E   ModuleNotFoundError: No module named 'src'\u001b[0m\n",
            "\u001b[36m\u001b[1m===================================== short test summary info ======================================\u001b[0m\n",
            "\u001b[31mERROR\u001b[0m Deployment_XGBoost_Heart_Disease_UCI/tests/test_data_loader.py\n",
            "\u001b[31mERROR\u001b[0m Deployment_XGBoost_Heart_Disease_UCI/tests/test_data_processor.py\n",
            "\u001b[31mERROR\u001b[0m Deployment_XGBoost_Heart_Disease_UCI/tests/test_data_splitter.py\n",
            "\u001b[31mERROR\u001b[0m Deployment_XGBoost_Heart_Disease_UCI/tests/test_evaluator.py\n",
            "\u001b[31mERROR\u001b[0m Deployment_XGBoost_Heart_Disease_UCI/tests/test_saver.py\n",
            "\u001b[31mERROR\u001b[0m Deployment_XGBoost_Heart_Disease_UCI/tests/test_trainer.py\n",
            "!!!!!!!!!!!!!!!!!!!!!!!!!!!!! Interrupted: 6 errors during collection !!!!!!!!!!!!!!!!!!!!!!!!!!!!!!\n",
            "\u001b[31m======================================== \u001b[31m\u001b[1m6 errors\u001b[0m\u001b[31m in 0.78s\u001b[0m\u001b[31m =========================================\u001b[0m\n"
          ]
        }
      ]
    }
  ]
}